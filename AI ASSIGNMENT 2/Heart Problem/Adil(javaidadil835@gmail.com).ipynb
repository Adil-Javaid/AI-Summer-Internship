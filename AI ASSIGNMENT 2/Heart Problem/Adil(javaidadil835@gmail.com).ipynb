{
 "cells": [
  {
   "cell_type": "markdown",
   "metadata": {},
   "source": [
    "<br><br><br>\n",
    "<center> <h3 style=\"color:blue\">========================================================</h3> </center>\n",
    "<center> <h3 style=\"color:green\">In the Name of Allah, the Most Beneficent, the Most Merciful</h3> </center>\n",
    "<center> <h3 style=\"color:green\">AI 2024 Online Summer Internship</h3> </center>\n",
    "<center> <h3 style=\"color:green\">Make Your Place in Top 20% AI Engineers of the World</h3> </center>\n",
    "<center> <h3 style=\"color:blue\">========================================================</h3> </center>\n",
    "<br><br><br>"
   ]
  },
  {
   "cell_type": "markdown",
   "metadata": {},
   "source": [
    "        *----------------------------- AUTHOR_DETAILS -------------------------------*\n",
    "        |                                                                            |\n",
    "        |        Project Title  = Heart Disease Prediction System                    |\n",
    "        |                                                                            |\n",
    "        |        Author         = H. M Adil Javaid                                   |\n",
    "        |                                                                            |\n",
    "        |        Email           = javaidadil835@gmail.com                           |\n",
    "        |                                                                            |\n",
    "        |                                                                            |\n",
    "        |        Copyright      = Copyright (C) 2024 H. M Adil Javaid                |\n",
    "        |                                                                            |\n",
    "        |        License        = Public Domain                                      |\n",
    "        |                                                                            |\n",
    "        |        Version        = 1.0                                                |\n",
    "        |                                                                            |\n",
    "        *----------------------------------------------------------------------------*"
   ]
  },
  {
   "cell_type": "markdown",
   "metadata": {},
   "source": [
    "<br><br><br>\n",
    "<center> <h2 style=\"color:green\">-------------------- PROJECT PURPOSE --------------------</h2> </center>\n",
    "<br>\n",
    "<center><h3>\n",
    "The main purpose of this Project is to demonstrate how the Heart Disease Problem can be treated as a Supervised Machine Learning Problem using Python and Scikit-learn Machine Learning Toolkit </h3>\n",
    "<br>\n",
    "<center><h3> For this Purpose, In Sha Allah, we will execute the Machine Learning Cycle </h3>\n",
    "<br>\n",
    "<center> <h2 style=\"color:green\">-------------------------------------------------------------------------</h2> </center>\n",
    "<br><br><br>"
   ]
  },
  {
   "cell_type": "markdown",
   "metadata": {},
   "source": [
    "# Machine Learning Cycle\n",
    "\n",
    "### Four phases of a Machine Learning Cycle are\n",
    "\n",
    "### Training Phase\n",
    "\n",
    "    Build the Model using Training Data\n",
    "\n",
    "### Testing Phase\n",
    "\n",
    "     Evaluate the performance of Model using Testing Data\n",
    "\n",
    "### Application Phase\n",
    "\n",
    "     Deploy the Model in the Real-world, to predict Real-time unseen Data\n",
    "\n",
    "### Feedback Phase\n",
    "\n",
    "    Take Feedback from the Users and Domain Experts to improve the Model\n"
   ]
  },
  {
   "cell_type": "markdown",
   "metadata": {},
   "source": [
    "### In Sha Allah, we will follow the following steps to execute the Machine Learning Cycle Using a Single File\n",
    "\n",
    "#### Step 1: Import Libraries\n",
    "\n",
    "#### Step 2: Load Sample Data\n",
    "\n",
    "#### Step 3: Understand and Pre-process Sample Data\n",
    "    \n",
    "    Step 3.1: Understand Sample Data\n",
    "    \n",
    "    Step 3.2: Pre-process Sample Data\n",
    "\n",
    "#### Step 4: Feature Extraction \n",
    "\n",
    "#### Step 5: Label Encoding (Input and Output is converted in Numeric Representation)\n",
    "\n",
    "    Step 5.1: Train the Label Encoder\n",
    "\n",
    "    Step 5.2: Label Encode the Output\n",
    "\n",
    "    Step 5.3: Label Encode the Input \n",
    "\n",
    "#### Step 6: Execute the Training Phase\n",
    "\n",
    "    Step 6.1: Splitting Sample Data into Training Data and Testing Data \n",
    "\n",
    "    Step 6.2: Splitting Input Vectors and Outputs / Labels of Training Data\n",
    "\n",
    "    Step 6.3: Train the Gradient Boosting Classifier\n",
    "\n",
    "    Step 6.4: Save the Trained Model\n",
    "\n",
    "#### Step 7: Execute the Testing Phase \n",
    "\n",
    "    Step 7.1: Splitting Input Vectors and Outputs/Labels of Testing Data\n",
    "    \n",
    "    Step 7.2: Load the Saved Model\n",
    "    \n",
    "    Step 7.3: Evaluate the Performance of Trained Model\n",
    "\n",
    "        Step 7.3.1: Make Predictions with the Trained Model on Testing Data\n",
    "\n",
    "    Step 7.4: Calculate the Accuracy Score\n",
    "\n",
    "#### Step 8: Execute the Application Phase \n",
    "\n",
    "    Step 8.1: Take Input from User \n",
    "\n",
    "    Step 8.2: Convert User Input into Feature Vector (Exactly Same as Feature Vectors of Sample Data)\n",
    "\n",
    "    Step 8.3: Label Encoding of Feature Vector (Exactly Same as Label Encoded Feature Vectors of Sample Data)\n",
    "\n",
    "    Step 8.4: Load the Saved Model\n",
    "\n",
    "    Step 8.5: Model Prediction\n",
    "\n",
    "         Step 8.5.1: Apply Model on the Label Encoded Feature Vector of unseen instance and return Prediction to the User\n",
    "\n",
    "#### Step 9: Execute the Feedback Phase \n",
    "\n",
    "#### Step 10: Improve the Model based on Feedback"
   ]
  },
  {
   "cell_type": "markdown",
   "metadata": {},
   "source": [
    "# Step 1: Import Libraries"
   ]
  },
  {
   "cell_type": "code",
   "execution_count": 263,
   "metadata": {},
   "outputs": [],
   "source": [
    "# Import Libraries\n",
    "import numpy as np\n",
    "import pandas as pd\n",
    "import pickle\n",
    "\n",
    "from sklearn.model_selection import train_test_split\n",
    "from sklearn.preprocessing import LabelEncoder\n",
    "from sklearn import svm\n",
    "from sklearn.ensemble import RandomForestClassifier, GradientBoostingClassifier\n",
    "from sklearn.metrics import accuracy_score\n",
    "from sklearn.neural_network import MLPClassifier\n",
    "from sklearn.linear_model import LogisticRegression\n",
    "from sklearn.svm import SVC\n",
    "\n",
    "from prettytable import PrettyTable   \n",
    "from astropy.table import Table, Column"
   ]
  },
  {
   "cell_type": "markdown",
   "metadata": {},
   "source": [
    "# Step 2: Load Sample Data"
   ]
  },
  {
   "cell_type": "code",
   "execution_count": 264,
   "metadata": {},
   "outputs": [
    {
     "name": "stdout",
     "output_type": "stream",
     "text": [
      "\n",
      "\n",
      "Sample Data: \n",
      "================\n",
      "\n",
      "    age  sex  cp  trestbps  target\n",
      "0    63    1   3       145       1\n",
      "1    37    1   2       130       1\n",
      "2    41    0   1       130       1\n",
      "3    56    1   1       120       1\n",
      "4    57    0   0       120       1\n",
      "5    57    1   0       140       1\n",
      "6    56    0   1       140       1\n",
      "7    44    1   1       120       1\n",
      "8    52    1   2       172       1\n",
      "9    57    1   2       150       1\n",
      "10   54    1   0       140       1\n",
      "11   48    0   2       130       1\n",
      "12   49    1   1       130       1\n",
      "13   64    1   3       110       1\n",
      "14   58    0   3       150       1\n",
      "15   50    0   2       120       1\n",
      "16   58    0   2       120       1\n",
      "17   66    0   3       150       1\n",
      "18   43    1   0       150       1\n",
      "19   69    0   3       140       1\n",
      "20   59    1   0       135       1\n",
      "21   44    1   2       130       1\n",
      "22   42    1   0       140       1\n",
      "23   61    1   2       150       1\n",
      "24   40    1   3       140       1\n",
      "25   71    0   1       160       1\n",
      "26   59    1   2       150       1\n",
      "27   51    1   2       110       1\n",
      "28   65    0   2       140       1\n",
      "29   53    1   2       130       1\n",
      "30   41    0   1       105       1\n",
      "31   65    1   0       120       1\n",
      "32   44    1   1       130       1\n",
      "33   54    1   2       125       1\n",
      "34   51    1   3       125       1\n",
      "35   46    0   2       142       1\n",
      "36   54    0   2       135       1\n",
      "37   54    1   2       150       1\n",
      "38   65    0   2       155       1\n",
      "39   65    0   2       160       1\n",
      "40   51    0   2       140       1\n",
      "41   48    1   1       130       1\n",
      "42   45    1   0       104       1\n",
      "43   53    0   0       130       1\n",
      "44   39    1   2       140       1\n",
      "45   52    1   1       120       1\n",
      "46   44    1   2       140       1\n",
      "47   47    1   2       138       1\n",
      "48   53    0   2       128       1\n",
      "49   53    0   0       138       1\n",
      "50   67    1   0       160       0\n",
      "51   67    1   0       120       0\n",
      "52   62    0   0       140       0\n",
      "53   63    1   0       130       0\n",
      "54   53    1   0       140       0\n",
      "55   56    1   2       130       0\n",
      "56   48    1   1       110       0\n",
      "57   58    1   1       120       0\n",
      "58   58    1   2       132       0\n",
      "59   60    1   0       130       0\n",
      "60   40    1   0       110       0\n",
      "61   60    1   0       117       0\n",
      "62   64    1   2       140       0\n",
      "63   43    1   0       120       0\n",
      "64   57    1   0       150       0\n",
      "65   55    1   0       132       0\n",
      "66   65    0   0       150       0\n",
      "67   61    0   0       130       0\n",
      "68   58    1   2       112       0\n",
      "69   50    1   0       150       0\n",
      "70   44    1   0       112       0\n",
      "71   60    1   0       130       0\n",
      "72   54    1   0       124       0\n",
      "73   50    1   2       140       0\n",
      "74   41    1   0       110       0\n",
      "75   51    0   0       130       0\n",
      "76   58    1   0       128       0\n",
      "77   54    1   0       120       0\n",
      "78   60    1   0       145       0\n",
      "79   60    1   2       140       0\n",
      "80   59    1   0       170       0\n",
      "81   46    1   2       150       0\n",
      "82   67    1   0       125       0\n",
      "83   62    1   0       120       0\n",
      "84   65    1   0       110       0\n",
      "85   44    1   0       110       0\n",
      "86   60    1   0       125       0\n",
      "87   58    1   0       150       0\n",
      "88   68    1   2       180       0\n",
      "89   62    0   0       160       0\n",
      "90   52    1   0       128       0\n",
      "91   59    1   0       110       0\n",
      "92   60    0   0       150       0\n",
      "93   49    1   2       120       0\n",
      "94   59    1   0       140       0\n",
      "95   57    1   2       128       0\n",
      "96   61    1   0       120       0\n",
      "97   39    1   0       118       0\n",
      "98   61    0   0       145       0\n",
      "99   56    1   0       125       0\n"
     ]
    }
   ],
   "source": [
    "sample_data = pd.read_csv(\"heart-disease-sample-data.csv\")\n",
    "print(\"\\n\\nSample Data: \")\n",
    "print(\"================\\n\")\n",
    "selected_columns = sample_data[['age', 'sex', 'cp', 'trestbps', 'target']]\n",
    "pd.set_option('display.max_rows', None)\n",
    "pd.set_option('display.max_columns', None)\n",
    "print(selected_columns)"
   ]
  },
  {
   "cell_type": "markdown",
   "metadata": {},
   "source": [
    "# Step 3: Understand and Pre-process Sample Data"
   ]
  },
  {
   "cell_type": "markdown",
   "metadata": {},
   "source": [
    "## Step 3.1: Understand Sample Data"
   ]
  },
  {
   "cell_type": "code",
   "execution_count": 265,
   "metadata": {},
   "outputs": [
    {
     "name": "stdout",
     "output_type": "stream",
     "text": [
      "\n",
      "\n",
      "Attributes in Sample Data:\n",
      "==============================\n",
      "\n",
      "Index(['age', 'sex', 'cp', 'trestbps', 'target'], dtype='object')\n",
      "\n",
      "\n",
      "Number of Instances in Sample Data:  100\n"
     ]
    }
   ],
   "source": [
    "print(\"\\n\\nAttributes in Sample Data:\")\n",
    "print(\"==============================\\n\")\n",
    "print(selected_columns.columns)\n",
    "\n",
    "print(\"\\n\\nNumber of Instances in Sample Data: \",selected_columns[\"age\"].count())"
   ]
  },
  {
   "cell_type": "markdown",
   "metadata": {},
   "source": [
    "## Step 3.2: Pre-process Sample Data\n",
    "    o\tSample Data is already Preprocessed\n",
    "    o\tNo Preprocessing needs to be Performed "
   ]
  },
  {
   "cell_type": "markdown",
   "metadata": {},
   "source": [
    "# Step 4: Feature Extraction\n",
    "    o\tFeatures are already Extracted\n",
    "    o\tNo Feature Extraction needs to be Performed"
   ]
  },
  {
   "cell_type": "markdown",
   "metadata": {},
   "source": [
    "# Step 5: Label Encoding the Sample Data (Input and Output is converted in Numeric Representation)\n",
    "    o\tInput and Output is already in Numerical form"
   ]
  },
  {
   "cell_type": "markdown",
   "metadata": {},
   "source": [
    "## Step 5.1: Train the Label Encoder\n",
    "    o\tNo Need for this step"
   ]
  },
  {
   "cell_type": "markdown",
   "metadata": {},
   "source": [
    "## Step 5.2: Label Encode the Output\n",
    "    o\tNo Need for this step, Output already in Numerical form"
   ]
  },
  {
   "cell_type": "markdown",
   "metadata": {},
   "source": [
    "## Step 5.3: Label Encode the Input\n",
    "    o\tNo Need for this step, Input already in Numerical form"
   ]
  },
  {
   "cell_type": "markdown",
   "metadata": {},
   "source": [
    "# Step 6: Execute the Training Phase "
   ]
  },
  {
   "cell_type": "markdown",
   "metadata": {},
   "source": [
    "## Step 6.1: Splitting Sample Data into Training Data and Testing Data"
   ]
  },
  {
   "cell_type": "code",
   "execution_count": 266,
   "metadata": {},
   "outputs": [
    {
     "name": "stdout",
     "output_type": "stream",
     "text": [
      "\n",
      "\n",
      "Training Data: \n",
      "===============\n",
      "\n",
      "    age  sex  cp  trestbps  target\n",
      "0    63    1   3       145       1\n",
      "1    37    1   2       130       1\n",
      "2    41    0   1       130       1\n",
      "3    56    1   1       120       1\n",
      "4    57    0   0       120       1\n",
      "5    57    1   0       140       1\n",
      "6    56    0   1       140       1\n",
      "7    44    1   1       120       1\n",
      "8    52    1   2       172       1\n",
      "9    57    1   2       150       1\n",
      "10   54    1   0       140       1\n",
      "11   48    0   2       130       1\n",
      "12   49    1   1       130       1\n",
      "13   64    1   3       110       1\n",
      "14   58    0   3       150       1\n",
      "15   50    0   2       120       1\n",
      "16   58    0   2       120       1\n",
      "17   66    0   3       150       1\n",
      "18   43    1   0       150       1\n",
      "19   69    0   3       140       1\n",
      "20   59    1   0       135       1\n",
      "21   44    1   2       130       1\n",
      "22   42    1   0       140       1\n",
      "23   61    1   2       150       1\n",
      "24   40    1   3       140       1\n",
      "25   71    0   1       160       1\n",
      "26   59    1   2       150       1\n",
      "27   51    1   2       110       1\n",
      "28   65    0   2       140       1\n",
      "29   53    1   2       130       1\n",
      "30   41    0   1       105       1\n",
      "31   65    1   0       120       1\n",
      "32   44    1   1       130       1\n",
      "33   54    1   2       125       1\n",
      "34   51    1   3       125       1\n",
      "35   46    0   2       142       1\n",
      "36   54    0   2       135       1\n",
      "37   54    1   2       150       1\n",
      "38   65    0   2       155       1\n",
      "39   65    0   2       160       1\n",
      "40   51    0   2       140       1\n",
      "41   48    1   1       130       1\n",
      "42   45    1   0       104       1\n",
      "43   53    0   0       130       1\n",
      "44   39    1   2       140       1\n",
      "45   52    1   1       120       1\n",
      "46   44    1   2       140       1\n",
      "47   47    1   2       138       1\n",
      "48   53    0   2       128       1\n",
      "49   53    0   0       138       1\n",
      "50   67    1   0       160       0\n",
      "51   67    1   0       120       0\n",
      "52   62    0   0       140       0\n",
      "53   63    1   0       130       0\n",
      "54   53    1   0       140       0\n",
      "55   56    1   2       130       0\n",
      "56   48    1   1       110       0\n",
      "57   58    1   1       120       0\n",
      "58   58    1   2       132       0\n",
      "59   60    1   0       130       0\n",
      "60   40    1   0       110       0\n",
      "61   60    1   0       117       0\n",
      "62   64    1   2       140       0\n",
      "63   43    1   0       120       0\n",
      "64   57    1   0       150       0\n",
      "65   55    1   0       132       0\n",
      "66   65    0   0       150       0\n",
      "67   61    0   0       130       0\n",
      "68   58    1   2       112       0\n",
      "69   50    1   0       150       0\n",
      "70   44    1   0       112       0\n",
      "71   60    1   0       130       0\n",
      "72   54    1   0       124       0\n",
      "73   50    1   2       140       0\n",
      "74   41    1   0       110       0\n",
      "75   51    0   0       130       0\n",
      "76   58    1   0       128       0\n",
      "77   54    1   0       120       0\n",
      "78   60    1   0       145       0\n",
      "79   60    1   2       140       0\n",
      "\n",
      "\n",
      "Testing Data: \n",
      "==============\n",
      "\n",
      "    age  sex  cp  trestbps  target\n",
      "80   59    1   0       170       0\n",
      "81   46    1   2       150       0\n",
      "82   67    1   0       125       0\n",
      "83   62    1   0       120       0\n",
      "84   65    1   0       110       0\n",
      "85   44    1   0       110       0\n",
      "86   60    1   0       125       0\n",
      "87   58    1   0       150       0\n",
      "88   68    1   2       180       0\n",
      "89   62    0   0       160       0\n",
      "90   52    1   0       128       0\n",
      "91   59    1   0       110       0\n",
      "92   60    0   0       150       0\n",
      "93   49    1   2       120       0\n",
      "94   59    1   0       140       0\n",
      "95   57    1   2       128       0\n",
      "96   61    1   0       120       0\n",
      "97   39    1   0       118       0\n",
      "98   61    0   0       145       0\n",
      "99   56    1   0       125       0\n"
     ]
    }
   ],
   "source": [
    "# Splitting Sample Data into Tarining Data and Testing Data\n",
    "\n",
    "training_data_encoded, testing_data_encoded = train_test_split(selected_columns, test_size=0.2, random_state=0, shuffle=False)\n",
    "\n",
    "# Save Training and Testing Data into CSV File\n",
    "training_data_encoded.to_csv(r'training-data-encoded.csv', index = False, header = True)\n",
    "testing_data_encoded.to_csv(r'testing-data-encoded.csv',index = False, header = True)\n",
    "\n",
    "# Print Training and Testing Data\n",
    "print(\"\\n\\nTraining Data: \")\n",
    "print(\"===============\\n\")\n",
    "pd.set_option('display.max_rows', None)\n",
    "pd.set_option('display.max_columns', None)\n",
    "print(training_data_encoded)\n",
    "\n",
    "print(\"\\n\\nTesting Data: \")\n",
    "print(\"==============\\n\")\n",
    "pd.set_option('display.max_rows', None)\n",
    "pd.set_option('display.max_columns', None)\n",
    "print(testing_data_encoded)"
   ]
  },
  {
   "cell_type": "markdown",
   "metadata": {},
   "source": [
    "## Step 6.2: Splitting Input Vectors and Outputs / Labels of Training Data"
   ]
  },
  {
   "cell_type": "code",
   "execution_count": 267,
   "metadata": {},
   "outputs": [
    {
     "name": "stdout",
     "output_type": "stream",
     "text": [
      "\n",
      "\n",
      "Inputs Vetcors (Feature Vectors) of Training Data: \n",
      "====================================================\n",
      "\n",
      "    age  sex  cp  trestbps\n",
      "0    63    1   3       145\n",
      "1    37    1   2       130\n",
      "2    41    0   1       130\n",
      "3    56    1   1       120\n",
      "4    57    0   0       120\n",
      "5    57    1   0       140\n",
      "6    56    0   1       140\n",
      "7    44    1   1       120\n",
      "8    52    1   2       172\n",
      "9    57    1   2       150\n",
      "10   54    1   0       140\n",
      "11   48    0   2       130\n",
      "12   49    1   1       130\n",
      "13   64    1   3       110\n",
      "14   58    0   3       150\n",
      "15   50    0   2       120\n",
      "16   58    0   2       120\n",
      "17   66    0   3       150\n",
      "18   43    1   0       150\n",
      "19   69    0   3       140\n",
      "20   59    1   0       135\n",
      "21   44    1   2       130\n",
      "22   42    1   0       140\n",
      "23   61    1   2       150\n",
      "24   40    1   3       140\n",
      "25   71    0   1       160\n",
      "26   59    1   2       150\n",
      "27   51    1   2       110\n",
      "28   65    0   2       140\n",
      "29   53    1   2       130\n",
      "30   41    0   1       105\n",
      "31   65    1   0       120\n",
      "32   44    1   1       130\n",
      "33   54    1   2       125\n",
      "34   51    1   3       125\n",
      "35   46    0   2       142\n",
      "36   54    0   2       135\n",
      "37   54    1   2       150\n",
      "38   65    0   2       155\n",
      "39   65    0   2       160\n",
      "40   51    0   2       140\n",
      "41   48    1   1       130\n",
      "42   45    1   0       104\n",
      "43   53    0   0       130\n",
      "44   39    1   2       140\n",
      "45   52    1   1       120\n",
      "46   44    1   2       140\n",
      "47   47    1   2       138\n",
      "48   53    0   2       128\n",
      "49   53    0   0       138\n",
      "50   67    1   0       160\n",
      "51   67    1   0       120\n",
      "52   62    0   0       140\n",
      "53   63    1   0       130\n",
      "54   53    1   0       140\n",
      "55   56    1   2       130\n",
      "56   48    1   1       110\n",
      "57   58    1   1       120\n",
      "58   58    1   2       132\n",
      "59   60    1   0       130\n",
      "60   40    1   0       110\n",
      "61   60    1   0       117\n",
      "62   64    1   2       140\n",
      "63   43    1   0       120\n",
      "64   57    1   0       150\n",
      "65   55    1   0       132\n",
      "66   65    0   0       150\n",
      "67   61    0   0       130\n",
      "68   58    1   2       112\n",
      "69   50    1   0       150\n",
      "70   44    1   0       112\n",
      "71   60    1   0       130\n",
      "72   54    1   0       124\n",
      "73   50    1   2       140\n",
      "74   41    1   0       110\n",
      "75   51    0   0       130\n",
      "76   58    1   0       128\n",
      "77   54    1   0       120\n",
      "78   60    1   0       145\n",
      "79   60    1   2       140\n",
      "\n",
      "\n",
      "Outputs/Labels of Training Data: \n",
      "==================================\n",
      "\n",
      "0     1\n",
      "1     1\n",
      "2     1\n",
      "3     1\n",
      "4     1\n",
      "5     1\n",
      "6     1\n",
      "7     1\n",
      "8     1\n",
      "9     1\n",
      "10    1\n",
      "11    1\n",
      "12    1\n",
      "13    1\n",
      "14    1\n",
      "15    1\n",
      "16    1\n",
      "17    1\n",
      "18    1\n",
      "19    1\n",
      "20    1\n",
      "21    1\n",
      "22    1\n",
      "23    1\n",
      "24    1\n",
      "25    1\n",
      "26    1\n",
      "27    1\n",
      "28    1\n",
      "29    1\n",
      "30    1\n",
      "31    1\n",
      "32    1\n",
      "33    1\n",
      "34    1\n",
      "35    1\n",
      "36    1\n",
      "37    1\n",
      "38    1\n",
      "39    1\n",
      "40    1\n",
      "41    1\n",
      "42    1\n",
      "43    1\n",
      "44    1\n",
      "45    1\n",
      "46    1\n",
      "47    1\n",
      "48    1\n",
      "49    1\n",
      "50    0\n",
      "51    0\n",
      "52    0\n",
      "53    0\n",
      "54    0\n",
      "55    0\n",
      "56    0\n",
      "57    0\n",
      "58    0\n",
      "59    0\n",
      "60    0\n",
      "61    0\n",
      "62    0\n",
      "63    0\n",
      "64    0\n",
      "65    0\n",
      "66    0\n",
      "67    0\n",
      "68    0\n",
      "69    0\n",
      "70    0\n",
      "71    0\n",
      "72    0\n",
      "73    0\n",
      "74    0\n",
      "75    0\n",
      "76    0\n",
      "77    0\n",
      "78    0\n",
      "79    0\n",
      "Name: target, dtype: int64\n"
     ]
    }
   ],
   "source": [
    "# Splitting Input Vectors and Outputs / Labels of Training Data\n",
    "\n",
    "print(\"\\n\\nInputs Vetcors (Feature Vectors) of Training Data: \")\n",
    "print(\"====================================================\\n\")\n",
    "input_vector_train = training_data_encoded.iloc[ :,:-1]\n",
    "print(input_vector_train)\n",
    "\n",
    "print(\"\\n\\nOutputs/Labels of Training Data: \")\n",
    "print(\"==================================\\n\")\n",
    "output_label_train = training_data_encoded.iloc[ :,-1]\n",
    "print(output_label_train)"
   ]
  },
  {
   "cell_type": "markdown",
   "metadata": {},
   "source": [
    "## 6.3: Train the Gradient Boosting Classifier"
   ]
  },
  {
   "cell_type": "code",
   "execution_count": 268,
   "metadata": {},
   "outputs": [
    {
     "name": "stdout",
     "output_type": "stream",
     "text": [
      "\n",
      "\n",
      "Training the Support Vector Classifier on Training Data: \n",
      "==========================================================\n",
      "\n",
      "\n",
      "Parameters and their values:\n",
      "=============================\n",
      "\n"
     ]
    },
    {
     "name": "stdout",
     "output_type": "stream",
     "text": [
      "GradientBoostingClassifier(random_state=0)\n"
     ]
    }
   ],
   "source": [
    "# Train the Support Vector Classifier\n",
    "\n",
    "print(\"\\n\\nTraining the Support Vector Classifier on Training Data: \")\n",
    "print(\"==========================================================\\n\")\n",
    "print(\"\\nParameters and their values:\")\n",
    "print(\"=============================\\n\")\n",
    "# svc_model = SVC(random_state=0) (0 Accuracy score)\n",
    "# svc_model.fit(input_vector_train, np.ravel(output_label_train))\n",
    "# lr_model = LogisticRegression(random_state=0) (60 Accuracy score)\n",
    "# lr_model.fit(input_vector_train, np.ravel(output_label_train))\n",
    "\n",
    "# mlp_model = MLPClassifier(random_state=0) (60 Accuracy score))\n",
    "# mlp_model.fit(input_vector_train, np.ravel(output_label_train))\n",
    "# rf_model = RandomForestClassifier(random_state=0) (75 Accuracy score))\n",
    "# rf_model.fit(input_vector_train, np.ravel(output_label_train))\n",
    "\n",
    "# (75 Accuracy score)\n",
    "gbc_model = GradientBoostingClassifier(random_state=0) \n",
    "gbc_model.fit(input_vector_train, np.ravel(output_label_train))\n",
    "print(gbc_model)"
   ]
  },
  {
   "cell_type": "markdown",
   "metadata": {},
   "source": [
    "## Step 6.4: Save the Trained Model"
   ]
  },
  {
   "cell_type": "code",
   "execution_count": 269,
   "metadata": {},
   "outputs": [],
   "source": [
    "# Save the Trained Model\n",
    "\n",
    "pickle.dump(gbc_model, open('svc_trained_model.pkl', 'wb'))"
   ]
  },
  {
   "cell_type": "markdown",
   "metadata": {},
   "source": [
    "# Step 7: Execute the Testing Phase "
   ]
  },
  {
   "cell_type": "markdown",
   "metadata": {},
   "source": [
    "## Step 7.1: Splitting Input Vectors and Outputs/Labels of Testing Data"
   ]
  },
  {
   "cell_type": "code",
   "execution_count": 270,
   "metadata": {},
   "outputs": [
    {
     "name": "stdout",
     "output_type": "stream",
     "text": [
      "\n",
      "\n",
      "Inputs Vectors (Feature Vectors) of Testing Data:\n",
      "=================================================\n",
      "\n",
      "    age  sex  cp  trestbps\n",
      "80   59    1   0       170\n",
      "81   46    1   2       150\n",
      "82   67    1   0       125\n",
      "83   62    1   0       120\n",
      "84   65    1   0       110\n",
      "85   44    1   0       110\n",
      "86   60    1   0       125\n",
      "87   58    1   0       150\n",
      "88   68    1   2       180\n",
      "89   62    0   0       160\n",
      "90   52    1   0       128\n",
      "91   59    1   0       110\n",
      "92   60    0   0       150\n",
      "93   49    1   2       120\n",
      "94   59    1   0       140\n",
      "95   57    1   2       128\n",
      "96   61    1   0       120\n",
      "97   39    1   0       118\n",
      "98   61    0   0       145\n",
      "99   56    1   0       125\n",
      "\n",
      "\n",
      "Outputs/Labels of Testing Data:\n",
      "==============================\n",
      "\n",
      "  target\n",
      "80    0\n",
      "81    0\n",
      "82    0\n",
      "83    0\n",
      "84    0\n",
      "85    0\n",
      "86    0\n",
      "87    0\n",
      "88    0\n",
      "89    0\n",
      "90    0\n",
      "91    0\n",
      "92    0\n",
      "93    0\n",
      "94    0\n",
      "95    0\n",
      "96    0\n",
      "97    0\n",
      "98    0\n",
      "99    0\n",
      "Name: target, dtype: int64\n"
     ]
    }
   ],
   "source": [
    "# Split Input Vectors and Outputs/Labels of Testing Data\n",
    "\n",
    "print(\"\\n\\nInputs Vectors (Feature Vectors) of Testing Data:\")\n",
    "print(\"=================================================\\n\")\n",
    "input_vector_test = testing_data_encoded.iloc[: , :-1]\n",
    "print(input_vector_test)\n",
    "\n",
    "print(\"\\n\\nOutputs/Labels of Testing Data:\")\n",
    "print(\"==============================\\n\")\n",
    "print(\"  target\")\n",
    "output_label_test = testing_data_encoded.iloc[: ,-1]\n",
    "print(output_label_test)"
   ]
  },
  {
   "cell_type": "markdown",
   "metadata": {},
   "source": [
    "## Step 7.2: Load the Saved Model"
   ]
  },
  {
   "cell_type": "code",
   "execution_count": 271,
   "metadata": {},
   "outputs": [],
   "source": [
    "# Load the Saved Model\n",
    "model = pickle.load(open('svc_trained_model.pkl', 'rb'))"
   ]
  },
  {
   "cell_type": "markdown",
   "metadata": {},
   "source": [
    "## Step 7.3: Evaluate the Machine Learning Model\n",
    "### Step 7.3.1: Make Predictions with the Trained Models on Testing Data"
   ]
  },
  {
   "cell_type": "code",
   "execution_count": 272,
   "metadata": {},
   "outputs": [
    {
     "name": "stdout",
     "output_type": "stream",
     "text": [
      "\n",
      "\n",
      "Predictions Returned by svc_trained_model: \n",
      "=============================================\n",
      "\n",
      "    age  sex  cp  trestbps  target  Predictions\n",
      "80   59    1   0       170       0            0\n",
      "81   46    1   2       150       0            1\n",
      "82   67    1   0       125       0            0\n",
      "83   62    1   0       120       0            0\n",
      "84   65    1   0       110       0            1\n",
      "85   44    1   0       110       0            0\n",
      "86   60    1   0       125       0            0\n",
      "87   58    1   0       150       0            0\n",
      "88   68    1   2       180       0            1\n",
      "89   62    0   0       160       0            0\n",
      "90   52    1   0       128       0            0\n",
      "91   59    1   0       110       0            0\n",
      "92   60    0   0       150       0            0\n",
      "93   49    1   2       120       0            1\n",
      "94   59    1   0       140       0            1\n",
      "95   57    1   2       128       0            0\n",
      "96   61    1   0       120       0            0\n",
      "97   39    1   0       118       0            0\n",
      "98   61    0   0       145       0            0\n",
      "99   56    1   0       125       0            0\n"
     ]
    }
   ],
   "source": [
    "# Evaluate the ML Model\n",
    "\n",
    "model_predictions = model.predict(input_vector_test)\n",
    "testing_data_encoded.copy(deep=True)\n",
    "pd.options.mode.chained_assignment = None\n",
    "testing_data_encoded[\"Predictions\"] = model_predictions\n",
    "\n",
    "# Save Predictions into CSV File\n",
    "testing_data_encoded.to_csv(r'model-predictions.csv', index=False, header=True)\n",
    "model_predictions = testing_data_encoded\n",
    "print(\"\\n\\nPredictions Returned by svc_trained_model: \")\n",
    "print(\"=============================================\\n\")\n",
    "print(model_predictions)"
   ]
  },
  {
   "cell_type": "markdown",
   "metadata": {},
   "source": [
    "## Step 7.4: Calculate the Accuracy Score"
   ]
  },
  {
   "cell_type": "code",
   "execution_count": 273,
   "metadata": {},
   "outputs": [
    {
     "name": "stdout",
     "output_type": "stream",
     "text": [
      "\n",
      "\n",
      "Accuracy Score: \n",
      "===================\n",
      "\n",
      "0.75\n"
     ]
    }
   ],
   "source": [
    "# Calculate the Accuracy Score\n",
    "\n",
    "model_accuracy_score = accuracy_score(model_predictions[\"target\"],model_predictions[\"Predictions\"])\n",
    "\n",
    "print(\"\\n\\nAccuracy Score: \")\n",
    "print(\"===================\\n\")\n",
    "print(round(model_accuracy_score, 2))"
   ]
  },
  {
   "cell_type": "markdown",
   "metadata": {},
   "source": [
    "# Step 8: Execute the Application Phase"
   ]
  },
  {
   "cell_type": "markdown",
   "metadata": {},
   "source": [
    "## Step 8.1: Take Input from User"
   ]
  },
  {
   "cell_type": "code",
   "execution_count": 274,
   "metadata": {},
   "outputs": [],
   "source": [
    "# Take Input from User\n",
    "\n",
    "age_input = input(\"\\nPlease enter Age here (30-75) : \").strip()\n",
    "sex_input = input(\"\\nPlease enter Sex here (Male(1), Female(0)) : \").strip()\n",
    "cp_input = input(\"\\nPlease enter CP here (0, 1, 2, 3) : \").strip()\n",
    "trestbps_input = input(\"\\nPlease enter Trest_bps here (110-180) : \").strip()"
   ]
  },
  {
   "cell_type": "markdown",
   "metadata": {},
   "source": [
    "## Step 8.2: Convert User Input into Feature Vector (Exactly Same as Feature Vectors of Sample Data)"
   ]
  },
  {
   "cell_type": "code",
   "execution_count": 275,
   "metadata": {},
   "outputs": [
    {
     "name": "stdout",
     "output_type": "stream",
     "text": [
      "\n",
      "\n",
      "User Input Feature Vector: \n",
      "===============================\n",
      "\n",
      "  age sex cp trestbps\n",
      "0  30   1  1      130\n"
     ]
    }
   ],
   "source": [
    "user_input = pd.DataFrame({ 'age':[age_input], 'sex':[sex_input], 'cp':[cp_input], 'trestbps':[trestbps_input]})\n",
    "\n",
    "print(\"\\n\\nUser Input Feature Vector: \")\n",
    "print(\"===============================\\n\")\n",
    "print(user_input)\n",
    "unseen_data_features = user_input.copy()"
   ]
  },
  {
   "cell_type": "markdown",
   "metadata": {},
   "source": [
    "## Step 8.3: Label Encoding of Feature Vector (Exactly Same as Label Encoded Feature Vectors of Sample Data)\n",
    "    o\tNo Need for this step already in Numerical form"
   ]
  },
  {
   "cell_type": "markdown",
   "metadata": {},
   "source": [
    "## Step 8.4: Load the Saved Model"
   ]
  },
  {
   "cell_type": "code",
   "execution_count": 276,
   "metadata": {},
   "outputs": [],
   "source": [
    "# Load the Saved Model\n",
    "\n",
    "model = pickle.load(open('svc_trained_model.pkl', 'rb'))"
   ]
  },
  {
   "cell_type": "markdown",
   "metadata": {},
   "source": [
    "## Step 8.5: Model Prediction\n",
    "### Step 8.5.1: Apply Model on the Label Encoded Feature Vector of unseen instance and return Prediction to the User"
   ]
  },
  {
   "cell_type": "code",
   "execution_count": 277,
   "metadata": {},
   "outputs": [
    {
     "name": "stdout",
     "output_type": "stream",
     "text": [
      "+-----------------------------+\n",
      "|        **Prediction**       |\n",
      "+-----------------------------+\n",
      "|        Heart Problem        |\n",
      "+-----------------------------+\n"
     ]
    }
   ],
   "source": [
    "# Prediction of Unseen Instance\n",
    "\n",
    "heart_disease = model.predict(unseen_data_features)\n",
    "\n",
    "if(heart_disease == 1):\n",
    "    prediction = \"Heart Problem\"\n",
    "if(heart_disease == 0):\n",
    "    prediction = \"NO Heat Disease\"\n",
    "\n",
    "# Add Prediction into a Pretty Table\n",
    "\n",
    "pretty_table = PrettyTable()\n",
    "pretty_table.add_column(\"       **Prediction**      \",[prediction])\n",
    "print(pretty_table)"
   ]
  },
  {
   "cell_type": "markdown",
   "metadata": {},
   "source": [
    "# Step 9: Execute the Feedback Phase\n",
    "## A Two-Step Process\n",
    "### Step 01: After some time, take Feedback from\n",
    "    o\tDomain Experts and Users on deployed Titanic Passenger Survival Prediction System\n",
    "### Step 02: Make a List of Possible Improvements based on Feedback received"
   ]
  },
  {
   "cell_type": "markdown",
   "metadata": {},
   "source": [
    "# Step 10: Improve Model based on Feedback\n",
    "### There is Always Room for Improvement\n",
    "### Based on Feedback from Domain Experts and Users\n",
    "    o\tImprove your Model"
   ]
  },
  {
   "cell_type": "markdown",
   "metadata": {},
   "source": [
    "<br><br><br>\n",
    "<center> <h3 style=\"color:blue\">==========================================================</h3> </center>\n",
    "<center> <h3 style=\"color:green\">JAZAK ALLAH KHAIR</h3> \n",
    "<center> <h3 style=\"color:blue\">==========================================================</h3> </center>\n",
    "<br><br><br>"
   ]
  }
 ],
 "metadata": {
  "kernelspec": {
   "display_name": "Python 3",
   "language": "python",
   "name": "python3"
  },
  "language_info": {
   "codemirror_mode": {
    "name": "ipython",
    "version": 3
   },
   "file_extension": ".py",
   "mimetype": "text/x-python",
   "name": "python",
   "nbconvert_exporter": "python",
   "pygments_lexer": "ipython3",
   "version": "3.12.4"
  }
 },
 "nbformat": 4,
 "nbformat_minor": 2
}
